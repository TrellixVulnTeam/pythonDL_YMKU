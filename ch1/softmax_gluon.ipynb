{
 "cells": [
  {
   "cell_type": "code",
   "execution_count": 1,
   "metadata": {},
   "outputs": [],
   "source": [
    "import sys\n",
    "sys.path.append('..')\n",
    "import utils\n",
    "\n",
    "batch_size = 256\n",
    "train_data, test_data = utils.load_data_fashion_mnist(batch_size)"
   ]
  },
  {
   "cell_type": "code",
   "execution_count": 2,
   "metadata": {},
   "outputs": [],
   "source": [
    "from mxnet import gluon\n",
    "\n",
    "net = gluon.nn.Sequential()\n",
    "with net.name_scope():\n",
    "    net.add(gluon.nn.Flatten())\n",
    "    net.add(gluon.nn.Dense(10))\n",
    "net.initialize()"
   ]
  },
  {
   "cell_type": "code",
   "execution_count": 3,
   "metadata": {},
   "outputs": [],
   "source": [
    "softmax_cross_entropy = gluon.loss.SoftmaxCrossEntropyLoss()"
   ]
  },
  {
   "cell_type": "code",
   "execution_count": 4,
   "metadata": {},
   "outputs": [],
   "source": [
    "trainer = gluon.Trainer(net.collect_params(), 'sgd', {'learning_rate': 0.1})"
   ]
  },
  {
   "cell_type": "code",
   "execution_count": 9,
   "metadata": {},
   "outputs": [
    {
     "name": "stdout",
     "output_type": "stream",
     "text": [
      "epoch 0. Loss: 0.478838, Train acc 0.838453, Test acc 0.842300\n",
      "epoch 1. Loss: 0.470889, Train acc 0.839445, Test acc 0.839000\n",
      "epoch 2. Loss: 0.462779, Train acc 0.842127, Test acc 0.846600\n",
      "epoch 3. Loss: 0.457589, Train acc 0.842692, Test acc 0.848300\n",
      "epoch 4. Loss: 0.452063, Train acc 0.845324, Test acc 0.844000\n"
     ]
    }
   ],
   "source": [
    "from mxnet import ndarray as nd\n",
    "from mxnet import autograd as ag\n",
    "\n",
    "for epoch in range(5):\n",
    "    train_loss = 0.\n",
    "    train_acc = 0.\n",
    "    for data, label in train_data:\n",
    "        with ag.record():\n",
    "            out = net(data)\n",
    "            loss = softmax_cross_entropy(out, label)\n",
    "        loss.backward()\n",
    "        trainer.step(batch_size)\n",
    "\n",
    "        label = label.astype('float32')\n",
    "        #print((out.argmax(axis=1)==label))\n",
    "        #print(out.argmax(axis=1))\n",
    "        #print(label)\n",
    "        #print((out.argmax(axis=1)==label).sum().asscalar())\n",
    "        #print(nd.mean(out.argmax(axis=1)==label).asscalar())\n",
    "        #break\n",
    "        train_loss += nd.mean(loss).asscalar()\n",
    "        #train_acc += utils.accuracy(out, label)\n",
    "        train_acc += nd.mean(out.argmax(axis=1)==label).asscalar()\n",
    "\n",
    "        \n",
    "    test_acc = utils.evaluate_accuracy(test_data, net)\n",
    "    print('epoch %d. Loss: %f, Train acc %f, Test acc %f' % (\n",
    "        epoch, train_loss / len(train_data), train_acc / len(train_data), test_acc))"
   ]
  },
  {
   "cell_type": "code",
   "execution_count": null,
   "metadata": {},
   "outputs": [],
   "source": []
  }
 ],
 "metadata": {
  "kernelspec": {
   "display_name": "Python 3",
   "language": "python",
   "name": "python3"
  },
  "language_info": {
   "codemirror_mode": {
    "name": "ipython",
    "version": 3
   },
   "file_extension": ".py",
   "mimetype": "text/x-python",
   "name": "python",
   "nbconvert_exporter": "python",
   "pygments_lexer": "ipython3",
   "version": "3.7.2"
  }
 },
 "nbformat": 4,
 "nbformat_minor": 2
}
